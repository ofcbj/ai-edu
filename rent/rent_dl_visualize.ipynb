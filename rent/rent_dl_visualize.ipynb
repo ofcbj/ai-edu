{
 "cells": [
  {
   "cell_type": "markdown",
   "metadata": {},
   "source": [
    "# 東京家賃予測 - Deep Learning モデル可視化\n",
    "\n",
    "このノートブックでは、訓練されたディープラーニングモデルの詳細な可視化と分析を行います。\n",
    "\n",
    "## 可視化の内容\n",
    "1. ネットワークアーキテクチャ\n",
    "2. 区の埋め込み（インタラクティブ3D）\n",
    "3. 区の類似度分析\n",
    "4. Attention機構の可視化\n",
    "5. 訓練プロセスの分析\n",
    "6. 予測誤差の分析"
   ]
  },
  {
   "cell_type": "markdown",
   "metadata": {},
   "source": [
    "## 1. ライブラリのインポート"
   ]
  },
  {
   "cell_type": "code",
   "execution_count": null,
   "metadata": {},
   "outputs": [],
   "source": [
    "# 日本語フォント設定\n",
    "from rent_utils import setup_japanese_font\n",
    "setup_japanese_font()\n",
    "\n",
    "import matplotlib.pyplot as plt\n",
    "import matplotlib.font_manager as fmt\n",
    "\n",
    "\n",
    "print(\"✅ 日本語フォント設定完了\")\n",
    "\n",
    "import matplotlib.pyplot as plt\n",
    "import matplotlib.font_manager as fmt\n",
    "import pandas as pd\n",
    "import numpy as np\n",
    "import torch\n",
    "import seaborn as sns\n",
    "from sklearn.decomposition import PCA\n",
    "from sklearn.manifold import TSNE\n",
    "from sklearn.metrics.pairwise import cosine_similarity\n",
    "import plotly.graph_objects as go\n",
    "from plotly.subplots import make_subplots\n",
    "\n",
    "from rent_dl_visualize import NeuralNetworkVisualizer\n",
    "\n",
    "# プロット設定\n",
    "plt.rcParams['figure.dpi'] = 100\n",
    "sns.set_style('whitegrid')\n",
    "\n",
    "print(\"ライブラリのインポート完了\")"
   ]
  },
  {
   "cell_type": "markdown",
   "metadata": {},
   "source": [
    "## 2. ビジュアライザーの初期化"
   ]
  },
  {
   "cell_type": "code",
   "execution_count": null,
   "metadata": {},
   "outputs": [],
   "source": [
    "# Attentionモデル用のビジュアライザー\n",
    "visualizer = NeuralNetworkVisualizer(\n",
    "    model_type='attention',\n",
    "    model_path='rent_prediction_model_attention.pth',\n",
    "    data_path='tokyo_rent_data_v2.csv'\n",
    ")\n",
    "\n",
    "print(\"ビジュアライザー準備完了!\")"
   ]
  },
  {
   "cell_type": "markdown",
   "metadata": {},
   "source": [
    "## 3. ネットワークアーキテクチャの可視化"
   ]
  },
  {
   "cell_type": "code",
   "execution_count": null,
   "metadata": {},
   "outputs": [],
   "source": [
    "# ネットワーク構造、パラメータ分布、埋め込み、モデル情報を可視化\n",
    "visualizer.visualize_architecture()"
   ]
  },
  {
   "cell_type": "markdown",
   "metadata": {},
   "source": [
    "## 4. 区の埋め込み - インタラクティブ3D可視化"
   ]
  },
  {
   "cell_type": "code",
   "execution_count": null,
   "metadata": {},
   "outputs": [],
   "source": [
    "# 3D PCA投影のインタラクティブプロット\n",
    "visualizer.visualize_embeddings_interactive()"
   ]
  },
  {
   "cell_type": "markdown",
   "metadata": {},
   "source": [
    "## 5. 区の類似度分析"
   ]
  },
  {
   "cell_type": "code",
   "execution_count": null,
   "metadata": {},
   "outputs": [],
   "source": [
    "# 埋め込みベクトルを取得\n",
    "embeddings = visualizer.model.ward_embedding.weight.detach().cpu().numpy()\n",
    "ward_names = visualizer.preprocessor.label_encoders['区'].classes_\n",
    "\n",
    "# 類似度マトリクスを可視化\n",
    "visualizer.plot_similarity_matrix(embeddings, ward_names)"
   ]
  },
  {
   "cell_type": "code",
   "execution_count": null,
   "metadata": {},
   "outputs": [],
   "source": [
    "# コサイン類似度を計算\n",
    "similarity_matrix = cosine_similarity(embeddings)\n",
    "\n",
    "# 最も類似している区のペアを探す\n",
    "similar_pairs = []\n",
    "for i in range(len(ward_names)):\n",
    "    for j in range(i+1, len(ward_names)):\n",
    "        similar_pairs.append((\n",
    "            ward_names[i],\n",
    "            ward_names[j],\n",
    "            similarity_matrix[i, j]\n",
    "        ))\n",
    "\n",
    "similar_pairs.sort(key=lambda x: x[2], reverse=True)\n",
    "\n",
    "print(\"\\n最も類似している区のペア (Top 10):\")\n",
    "print(\"=\" * 60)\n",
    "for i, (ward1, ward2, sim) in enumerate(similar_pairs[:10], 1):\n",
    "    print(f\"{i:2d}. {ward1:8s} ↔ {ward2:8s}  類似度: {sim:.4f}\")"
   ]
  },
  {
   "cell_type": "markdown",
   "metadata": {},
   "source": [
    "## 6. Attention機構の可視化"
   ]
  },
  {
   "cell_type": "code",
   "execution_count": null,
   "metadata": {},
   "outputs": [],
   "source": [
    "# Attentionウェイトのヒートマップ\n",
    "visualizer.visualize_attention_weights()"
   ]
  },
  {
   "cell_type": "code",
   "execution_count": null,
   "metadata": {},
   "outputs": [],
   "source": [
    "# 区別のAttention重要度分析\n",
    "device = torch.device('cuda' if torch.cuda.is_available() else 'cpu')\n",
    "ward_avg_prices = visualizer.df.groupby('区')['家賃_円'].mean()\n",
    "\n",
    "attention_scores = []\n",
    "for i, ward in enumerate(ward_names):\n",
    "    ward_idx = torch.LongTensor([i]).to(device)\n",
    "    with torch.no_grad():\n",
    "        ward_emb = visualizer.model.ward_embedding(ward_idx)\n",
    "        attention = visualizer.model.attention(ward_emb)\n",
    "        score = attention.sum().item()\n",
    "    \n",
    "    attention_scores.append({\n",
    "        '区': ward,\n",
    "        'Attention Score': score,\n",
    "        '平均家賃': ward_avg_prices[ward]\n",
    "    })\n",
    "\n",
    "attention_df = pd.DataFrame(attention_scores)\n",
    "attention_df = attention_df.sort_values('Attention Score', ascending=False)\n",
    "\n",
    "# 可視化\n",
    "fig, axes = plt.subplots(1, 2, figsize=(16, 6))\n",
    "\n",
    "# Attentionスコアランキング\n",
    "axes[0].barh(attention_df['区'][:15], attention_df['Attention Score'][:15], color='steelblue')\n",
    "axes[0].set_xlabel('Attention Score')\n",
    "axes[0].set_title('Attention Score by Ward (Top 15)', fontweight='bold')\n",
    "axes[0].invert_yaxis()\n",
    "\n",
    "# Attentionスコアと平均家賃の関係\n",
    "axes[1].scatter(attention_df['平均家賃'], attention_df['Attention Score'], \n",
    "                s=100, alpha=0.6, c='coral')\n",
    "for i, row in attention_df.iterrows():\n",
    "    if row['区'] in ['港区', '千代田区', '足立区', '葛飾区']:\n",
    "        axes[1].annotate(row['区'], (row['平均家賃'], row['Attention Score']),\n",
    "                         xytext=(5, 5), textcoords='offset points', fontsize=9)\n",
    "axes[1].set_xlabel('Average Rent (¥)')\n",
    "axes[1].set_ylabel('Attention Score')\n",
    "axes[1].set_title('Attention Score vs Average Rent', fontweight='bold')\n",
    "axes[1].grid(True, alpha=0.3)\n",
    "\n",
    "# 相関係数\n",
    "correlation = attention_df['平均家賃'].corr(attention_df['Attention Score'])\n",
    "axes[1].text(0.05, 0.95, f'Correlation: {correlation:.3f}',\n",
    "             transform=axes[1].transAxes, verticalalignment='top',\n",
    "             bbox=dict(boxstyle='round', facecolor='wheat', alpha=0.5))\n",
    "\n",
    "plt.tight_layout()\n",
    "plt.savefig('attention_analysis.png', dpi=300, bbox_inches='tight')\n",
    "plt.show()\n",
    "\n",
    "print(\"可視化保存: attention_analysis.png\")"
   ]
  },
  {
   "cell_type": "markdown",
   "metadata": {},
   "source": [
    "## 7. t-SNE による埋め込み可視化"
   ]
  },
  {
   "cell_type": "code",
   "execution_count": null,
   "metadata": {},
   "outputs": [],
   "source": [
    "# t-SNE 2D投影\n",
    "tsne = TSNE(n_components=2, random_state=42, perplexity=8)\n",
    "embeddings_tsne = tsne.fit_transform(embeddings)\n",
    "\n",
    "colors = [ward_avg_prices[ward] for ward in ward_names]\n",
    "\n",
    "plt.figure(figsize=(14, 10))\n",
    "scatter = plt.scatter(embeddings_tsne[:, 0], embeddings_tsne[:, 1],\n",
    "                      c=colors, cmap='RdYlBu_r', s=300, alpha=0.7, edgecolors='black')\n",
    "\n",
    "# すべての区名を表示\n",
    "for i, ward in enumerate(ward_names):\n",
    "    plt.annotate(ward, (embeddings_tsne[i, 0], embeddings_tsne[i, 1]),\n",
    "                 fontsize=9, ha='center', va='center', fontweight='bold')\n",
    "\n",
    "plt.xlabel('t-SNE Dimension 1', fontsize=12)\n",
    "plt.ylabel('t-SNE Dimension 2', fontsize=12)\n",
    "plt.title('Ward Embeddings (t-SNE 2D Projection)', fontsize=14, fontweight='bold')\n",
    "plt.colorbar(scatter, label='Average Rent (¥)')\n",
    "plt.grid(True, alpha=0.3)\n",
    "plt.tight_layout()\n",
    "plt.savefig('ward_embeddings_tsne.png', dpi=300, bbox_inches='tight')\n",
    "plt.show()\n",
    "\n",
    "print(\"可視化保存: ward_embeddings_tsne.png\")"
   ]
  },
  {
   "cell_type": "markdown",
   "metadata": {},
   "source": [
    "## 8. 訓練プロセスの分析（データがある場合）"
   ]
  },
  {
   "cell_type": "code",
   "execution_count": null,
   "metadata": {},
   "outputs": [],
   "source": [
    "# 訓練履歴をロード（訓練ノートブックから保存されている場合）\n",
    "try:\n",
    "    # 訓練履歴がある場合\n",
    "    train_history = torch.load('training_history.pth', weights_only=False)\n",
    "    train_losses = train_history['train_losses']\n",
    "    val_losses = train_history['val_losses']\n",
    "    \n",
    "    visualizer.visualize_training_analysis(train_losses, val_losses)\n",
    "except FileNotFoundError:\n",
    "    print(\"訓練履歴ファイルが見つかりません。\")\n",
    "    print(\"rent_dl_train.ipynbで訓練を実行してください。\")"
   ]
  },
  {
   "cell_type": "markdown",
   "metadata": {},
   "source": [
    "## 9. 予測誤差の分析"
   ]
  },
  {
   "cell_type": "code",
   "execution_count": null,
   "metadata": {},
   "outputs": [],
   "source": [
    "# テストデータで予測を実行\n",
    "from torch.utils.data import DataLoader\n",
    "from rent_data import TokyoRentDataset\n",
    "from sklearn.model_selection import train_test_split\n",
    "\n",
    "# データ準備（訓練ノートブックと同じ処理）\n",
    "df = visualizer.df\n",
    "feature_cols = ['区_encoded', '建物構造_encoded', '建物タイプ_encoded',\n",
    "                '部屋サイズ_m2', '駅距離_分', '築年数_年', '区_avg_price']\n",
    "\n",
    "from rent_data import RentDataPreprocessor\n",
    "preprocessor = RentDataPreprocessor()\n",
    "df_processed = preprocessor.fit_transform(df)\n",
    "\n",
    "X = df_processed[feature_cols].values\n",
    "y = df['家賃_円'].values / 10000\n",
    "\n",
    "# データ分割\n",
    "X_train, X_temp, y_train, y_temp = train_test_split(X, y, test_size=0.3, random_state=42)\n",
    "X_val, X_test, y_val, y_test = train_test_split(X_temp, y_temp, test_size=0.5, random_state=42)\n",
    "\n",
    "# テストデータの区情報を保存\n",
    "test_indices = X_test[:, 0].astype(int)\n",
    "test_wards = [ward_names[idx] for idx in test_indices]\n",
    "\n",
    "test_dataset = TokyoRentDataset(X_test, y_test)\n",
    "test_loader = DataLoader(test_dataset, batch_size=32, shuffle=False)\n",
    "\n",
    "# 予測実行\n",
    "device = torch.device('cuda' if torch.cuda.is_available() else 'cpu')\n",
    "visualizer.model.eval()\n",
    "\n",
    "predictions = []\n",
    "actuals = []\n",
    "\n",
    "with torch.no_grad():\n",
    "    for batch_features, batch_targets in test_loader:\n",
    "        batch_features = batch_features.to(device)\n",
    "        \n",
    "        ward_idx = batch_features[:, 0].long()\n",
    "        structure_idx = batch_features[:, 1].long()\n",
    "        type_idx = batch_features[:, 2].long()\n",
    "        numeric_features = batch_features[:, 3:6]\n",
    "        ward_avg_price = batch_features[:, 6]\n",
    "        \n",
    "        outputs = visualizer.model(ward_idx, structure_idx, type_idx, \n",
    "                                    numeric_features, ward_avg_price)\n",
    "        if isinstance(outputs, tuple):\n",
    "            outputs = outputs[0]\n",
    "        \n",
    "        predictions.extend(outputs.cpu().numpy().flatten() * 10000)\n",
    "        actuals.extend(batch_targets.numpy() * 10000)\n",
    "\n",
    "predictions = np.array(predictions)\n",
    "actuals = np.array(actuals)\n",
    "errors = actuals - predictions\n",
    "percent_errors = (errors / actuals) * 100\n",
    "\n",
    "print(\"予測完了!\")"
   ]
  },
  {
   "cell_type": "code",
   "execution_count": null,
   "metadata": {},
   "outputs": [],
   "source": [
    "# 誤差分析の可視化\n",
    "fig, axes = plt.subplots(2, 2, figsize=(16, 12))\n",
    "\n",
    "# 1. 誤差の分布\n",
    "axes[0, 0].hist(errors, bins=50, color='skyblue', edgecolor='black', alpha=0.7)\n",
    "axes[0, 0].axvline(x=0, color='red', linestyle='--', linewidth=2)\n",
    "axes[0, 0].set_xlabel('Error (¥)', fontsize=11)\n",
    "axes[0, 0].set_ylabel('Frequency', fontsize=11)\n",
    "axes[0, 0].set_title('Distribution of Prediction Errors', fontweight='bold')\n",
    "axes[0, 0].text(0.05, 0.95, f'Mean: ¥{errors.mean():,.0f}\\nStd: ¥{errors.std():,.0f}',\n",
    "                transform=axes[0, 0].transAxes, verticalalignment='top',\n",
    "                bbox=dict(boxstyle='round', facecolor='wheat', alpha=0.5))\n",
    "\n",
    "# 2. パーセント誤差の分布\n",
    "axes[0, 1].hist(percent_errors, bins=50, color='coral', edgecolor='black', alpha=0.7)\n",
    "axes[0, 1].axvline(x=0, color='red', linestyle='--', linewidth=2)\n",
    "axes[0, 1].set_xlabel('Percent Error (%)', fontsize=11)\n",
    "axes[0, 1].set_ylabel('Frequency', fontsize=11)\n",
    "axes[0, 1].set_title('Distribution of Percent Errors', fontweight='bold')\n",
    "axes[0, 1].text(0.05, 0.95, f'Mean: {percent_errors.mean():.1f}%\\nStd: {percent_errors.std():.1f}%',\n",
    "                transform=axes[0, 1].transAxes, verticalalignment='top',\n",
    "                bbox=dict(boxstyle='round', facecolor='wheat', alpha=0.5))\n",
    "\n",
    "# 3. 価格帯別の誤差\n",
    "price_bins = [0, 80000, 100000, 120000, 150000, 200000, np.inf]\n",
    "price_labels = ['<80k', '80-100k', '100-120k', '120-150k', '150-200k', '>200k']\n",
    "price_categories = pd.cut(actuals, bins=price_bins, labels=price_labels)\n",
    "\n",
    "error_by_price = pd.DataFrame({\n",
    "    'Price Category': price_categories,\n",
    "    'Absolute Error': np.abs(errors)\n",
    "})\n",
    "\n",
    "error_by_price.boxplot(column='Absolute Error', by='Price Category', ax=axes[1, 0])\n",
    "axes[1, 0].set_xlabel('Price Range', fontsize=11)\n",
    "axes[1, 0].set_ylabel('Absolute Error (¥)', fontsize=11)\n",
    "axes[1, 0].set_title('Error by Price Range', fontweight='bold')\n",
    "plt.sca(axes[1, 0])\n",
    "plt.xticks(rotation=45)\n",
    "\n",
    "# 4. 区別の平均誤差\n",
    "error_by_ward = pd.DataFrame({\n",
    "    'Ward': test_wards,\n",
    "    'Absolute Error': np.abs(errors)\n",
    "})\n",
    "\n",
    "ward_error_avg = error_by_ward.groupby('Ward')['Absolute Error'].mean().sort_values(ascending=False)\n",
    "\n",
    "axes[1, 1].barh(ward_error_avg.index[:15], ward_error_avg.values[:15], color='lightgreen')\n",
    "axes[1, 1].set_xlabel('Average Absolute Error (¥)', fontsize=11)\n",
    "axes[1, 1].set_title('Average Error by Ward (Top 15)', fontweight='bold')\n",
    "axes[1, 1].invert_yaxis()\n",
    "\n",
    "plt.tight_layout()\n",
    "plt.savefig('error_analysis.png', dpi=300, bbox_inches='tight')\n",
    "plt.show()\n",
    "\n",
    "print(\"可視化保存: error_analysis.png\")"
   ]
  },
  {
   "cell_type": "code",
   "execution_count": null,
   "metadata": {},
   "outputs": [],
   "source": [
    "# 誤差統計サマリー\n",
    "print(\"\\n\" + \"=\" * 60)\n",
    "print(\"誤差分析サマリー\")\n",
    "print(\"=\" * 60)\n",
    "print(f\"平均絶対誤差 (MAE):     ¥{np.abs(errors).mean():,.0f}\")\n",
    "print(f\"二乗平均平方根誤差 (RMSE): ¥{np.sqrt((errors**2).mean()):,.0f}\")\n",
    "print(f\"平均誤差:              ¥{errors.mean():,.0f}\")\n",
    "print(f\"誤差の標準偏差:         ¥{errors.std():,.0f}\")\n",
    "print(f\"\\n平均パーセント誤差:     {percent_errors.mean():.2f}%\")\n",
    "print(f\"パーセント誤差の標準偏差: {percent_errors.std():.2f}%\")\n",
    "print(f\"\\n最大過大評価:          ¥{errors.min():,.0f}\")\n",
    "print(f\"最大過小評価:          ¥{errors.max():,.0f}\")"
   ]
  },
  {
   "cell_type": "markdown",
   "metadata": {},
   "source": [
    "## 完了!\n",
    "\n",
    "すべての可視化が完了しました。生成されたファイル:\n",
    "- `network_architecture_viz.png` - ネットワーク構造\n",
    "- `ward_embeddings_3d.html` - 3D埋め込み（インタラクティブ）\n",
    "- `ward_similarity_matrix.html` - 類似度マトリクス\n",
    "- `attention_weights_viz.html` - Attentionウェイト\n",
    "- `attention_analysis.png` - Attention分析\n",
    "- `ward_embeddings_tsne.png` - t-SNE可視化\n",
    "- `error_analysis.png` - 誤差分析"
   ]
  }
 ],
 "metadata": {
  "kernelspec": {
   "display_name": "Python 3 (ipykernel)",
   "language": "python",
   "name": "python3"
  },
  "language_info": {
   "codemirror_mode": {
    "name": "ipython",
    "version": 3
   },
   "file_extension": ".py",
   "mimetype": "text/x-python",
   "name": "python",
   "nbconvert_exporter": "python",
   "pygments_lexer": "ipython3",
   "version": "3.10.12"
  }
 },
 "nbformat": 4,
 "nbformat_minor": 4
}
